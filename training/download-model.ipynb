{
 "cells": [
  {
   "cell_type": "markdown",
   "metadata": {},
   "source": [
    "# Download a model from HuggingFace for offline / RHOAI Service runtime\n",
    "\n",
    "https://github.com/huggingface/transformers/issues/2041"
   ]
  },
  {
   "cell_type": "code",
   "execution_count": null,
   "metadata": {},
   "outputs": [],
   "source": [
    "from transformers import AutoModel, AutoTokenizer\n",
    "import os\n",
    "\n",
    "model_name=\"ibm-granite/granite-3.0-1b-a400m-instruct\"\n",
    "# Do this on a machine with internet access\n",
    "model = AutoModel.from_pretrained(model_name)\n",
    "tokenizer = AutoTokenizer.from_pretrained(model_name)\n",
    "\n",
    "os.makedirs(f\"models/{model_name}\", exist_ok=True)\n",
    "\n",
    "_ = model.save_pretrained(f\"./models/{model_name}\")\n",
    "_ = tokenizer.save_pretrained(f\"./models/{model_name}\")"
   ]
  }
 ],
 "metadata": {
  "kernelspec": {
   "display_name": "myenv",
   "language": "python",
   "name": "python3"
  },
  "language_info": {
   "codemirror_mode": {
    "name": "ipython",
    "version": 3
   },
   "file_extension": ".py",
   "mimetype": "text/x-python",
   "name": "python",
   "nbconvert_exporter": "python",
   "pygments_lexer": "ipython3",
   "version": "3.11.2"
  }
 },
 "nbformat": 4,
 "nbformat_minor": 2
}
