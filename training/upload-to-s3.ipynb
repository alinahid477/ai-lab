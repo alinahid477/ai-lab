{
 "cells": [
  {
   "cell_type": "code",
   "execution_count": 6,
   "metadata": {},
   "outputs": [
    {
     "name": "stdout",
     "output_type": "stream",
     "text": [
      "Connecting to S3 at https://minio-s3-s3storage.apps.cluster-gqbjb.gqbjb.sandbox134.opentlc.com using NNMZdJkgBOPIPaZj in bucket: mymodels\n",
      "/workspaces/ai-lab/training/models/upload, ggufs\n",
      "granite-3.3-2b-instruct-Q4_K_M.gguf\n",
      "/workspaces/ai-lab/training/models/upload/granite-3.3-2b-instruct-Q4_K_M.gguf -> ggufs/granite-3.3-2b-instruct-Q4_K_M.gguf\n",
      "trained_granite_7B-Q4_K_M.gguf\n",
      "/workspaces/ai-lab/training/models/upload/trained_granite_7B-Q4_K_M.gguf -> ggufs/trained_granite_7B-Q4_K_M.gguf\n"
     ]
    }
   ],
   "source": [
    "from dotenv import load_dotenv\n",
    "import os\n",
    "import boto3\n",
    "import botocore\n",
    "\n",
    "load_dotenv() \n",
    "\n",
    "aws_access_key_id = os.getenv('AWS_ACCESS_KEY_ID')\n",
    "aws_secret_access_key = os.getenv('AWS_SECRET_ACCESS_KEY')\n",
    "endpoint_url = os.getenv('AWS_S3_ENDPOINT_URL')\n",
    "region_name = os.getenv('AWS_DEFAULT_REGION')\n",
    "bucket_name = os.getenv('AWS_S3_BUCKET')\n",
    "\n",
    "\n",
    "if not all([aws_access_key_id, aws_secret_access_key, endpoint_url, region_name, bucket_name]):\n",
    "    raise ValueError(\"One or more connection variables are empty.  \"\n",
    "                     \"Please check your connection to an S3 bucket.\")\n",
    "\n",
    "print(f\"Connecting to S3 at {endpoint_url} using {aws_access_key_id} in bucket: {bucket_name}\")\n",
    "\n",
    "session = boto3.session.Session(\n",
    "    aws_access_key_id=aws_access_key_id,\n",
    "    aws_secret_access_key=aws_secret_access_key,\n",
    ")\n",
    "\n",
    "s3_resource = session.resource(\n",
    "        's3',\n",
    "        config=botocore.client.Config(signature_version='s3v4'), \n",
    "        endpoint_url=endpoint_url,\n",
    "        region_name=region_name\n",
    "    )\n",
    "\n",
    "bucket = s3_resource.Bucket(bucket_name)\n",
    "\n",
    "def upload_directory_to_s3(local_directory, s3_prefix):\n",
    "    print (f\"{local_directory}, {s3_prefix}\")\n",
    "    for root, dirs, files in os.walk(local_directory):\n",
    "        for filename in files:\n",
    "            file_path = os.path.join(root, filename)\n",
    "            relative_path = os.path.relpath(file_path, local_directory)\n",
    "            print(filename)\n",
    "            s3_key = os.path.join(s3_prefix, relative_path)\n",
    "            print(f\"{file_path} -> {s3_key}\")\n",
    "            bucket.upload_file(file_path, s3_key)\n",
    "\n",
    "\n",
    "def list_objects(prefix):\n",
    "    filter = bucket.objects.filter(Prefix=prefix)\n",
    "    for obj in filter.all():\n",
    "        print(obj.key)\n",
    "\n",
    "\n",
    "# upload_directory_to_s3(\"/home/dev/.cache/huggingface/hub/models--ibm-granite--granite-3.1-8b-instruct/snapshots/4009206d5fc95d2e65a7b7633e159d6e97e25d35\", \"models/ibm-granite/mmodels--ibm-granite--granite-3.1-8b-instruct\")\n",
    "\n",
    "upload_directory_to_s3(\"/workspaces/ai-lab/training/models/upload\", \"ggufs\")"
   ]
  }
 ],
 "metadata": {
  "kernelspec": {
   "display_name": "myenv",
   "language": "python",
   "name": "python3"
  },
  "language_info": {
   "codemirror_mode": {
    "name": "ipython",
    "version": 3
   },
   "file_extension": ".py",
   "mimetype": "text/x-python",
   "name": "python",
   "nbconvert_exporter": "python",
   "pygments_lexer": "ipython3",
   "version": "3.11.2"
  }
 },
 "nbformat": 4,
 "nbformat_minor": 2
}
